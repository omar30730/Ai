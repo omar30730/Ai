{
 "cells": [
  {
   "cell_type": "code",
   "execution_count": 78,
   "id": "53f6469e",
   "metadata": {},
   "outputs": [],
   "source": [
    "import pandas as pd\n",
    "import numpy as np\n",
    "import matplotlib.pyplot as plt\n",
    "from sklearn.linear_model import LogisticRegression\n",
    "from sklearn import metrics\n",
    "from sklearn.model_selection import train_test_split\n",
    "from sklearn.metrics import confusion_matrix\n",
    "from sklearn.metrics import accuracy_score\n",
    "from sklearn.metrics import roc_auc_score\n",
    "from sklearn.neighbors import KNeighborsClassifier\n",
    "from sklearn.metrics import roc_curve,auc"
   ]
  },
  {
   "cell_type": "code",
   "execution_count": 138,
   "id": "6314729d",
   "metadata": {},
   "outputs": [
    {
     "data": {
      "text/plain": [
       "TenYearCHD    0\n",
       "dtype: int64"
      ]
     },
     "execution_count": 138,
     "metadata": {},
     "output_type": "execute_result"
    }
   ],
   "source": [
    "y[\"TenYearCHD\"].fillna( method ='ffill', inplace = True)\n",
    "y.isnull().sum()"
   ]
  },
  {
   "cell_type": "code",
   "execution_count": 146,
   "id": "9e67c1c1",
   "metadata": {},
   "outputs": [],
   "source": [
    "df = pd.read_csv(\"real name is bad.csv\")\n",
    "\n",
    "x = df.loc[:,[\"age\",\"sysBP\"]]\n",
    "\n",
    "y = df.loc[:,[\"TenYearCHD\"]]\n",
    "\n",
    "y[\"TenYearCHD\"].fillna( method ='ffill', inplace = True)\n",
    "\n",
    "df.dropna(inplace = True)"
   ]
  },
  {
   "cell_type": "code",
   "execution_count": 147,
   "id": "4a4090ad",
   "metadata": {},
   "outputs": [
    {
     "name": "stderr",
     "output_type": "stream",
     "text": [
      "C:\\Users\\DELL\\anaconda3\\Lib\\site-packages\\sklearn\\utils\\validation.py:1184: DataConversionWarning: A column-vector y was passed when a 1d array was expected. Please change the shape of y to (n_samples, ), for example using ravel().\n",
      "  y = column_or_1d(y, warn=True)\n"
     ]
    }
   ],
   "source": [
    "x_train,x_test,y_train,y_test = train_test_split(x, y, test_size=0.25, random_state=0)\n",
    "\n",
    "logr = LogisticRegression()\n",
    "\n",
    "logr.fit(x_train, y_train)\n",
    "\n",
    "y_pred = logr.predict(x_test)\n",
    "\n",
    "y_pred_logistic = logr.decision_function(x_test)"
   ]
  },
  {
   "cell_type": "code",
   "execution_count": 152,
   "id": "20a2a01e",
   "metadata": {},
   "outputs": [
    {
     "data": {
      "text/plain": [
       "0.506896551724138"
      ]
     },
     "execution_count": 152,
     "metadata": {},
     "output_type": "execute_result"
    }
   ],
   "source": [
    "auc_score1 = roc_auc_score(y_test,y_pred)\n",
    "\n",
    "logistic_fpr,logistic_tpr,threshold = roc_curve(y_test, y_pred_logistic)\n",
    "\n",
    "auc_score1"
   ]
  },
  {
   "cell_type": "code",
   "execution_count": 149,
   "id": "bccf88c3",
   "metadata": {},
   "outputs": [
    {
     "name": "stderr",
     "output_type": "stream",
     "text": [
      "C:\\Users\\DELL\\anaconda3\\Lib\\site-packages\\sklearn\\neighbors\\_classification.py:228: DataConversionWarning: A column-vector y was passed when a 1d array was expected. Please change the shape of y to (n_samples,), for example using ravel().\n",
      "  return self._fit(X, y)\n"
     ]
    }
   ],
   "source": [
    "model2 = KNeighborsClassifier()\n",
    "\n",
    "model2.fit(x_train, y_train)\n",
    "\n",
    "pred_prob2 = model2.predict_proba(x_test)"
   ]
  },
  {
   "cell_type": "code",
   "execution_count": 150,
   "id": "31daa972",
   "metadata": {},
   "outputs": [],
   "source": [
    "cm = confusion_matrix(y_test, y_pred)"
   ]
  },
  {
   "cell_type": "code",
   "execution_count": 145,
   "id": "72ce24e1",
   "metadata": {},
   "outputs": [
    {
     "name": "stdout",
     "output_type": "stream",
     "text": [
      "Accuracy :  0.8650943396226415\n"
     ]
    }
   ],
   "source": [
    "print (\"Accuracy : \", accuracy_score(y_test, y_pred))"
   ]
  },
  {
   "cell_type": "code",
   "execution_count": 71,
   "id": "5c5233a5",
   "metadata": {
    "scrolled": true
   },
   "outputs": [
    {
     "data": {
      "text/plain": [
       "(array([0.        , 0.        , 0.        , 0.00163399, 0.00163399,\n",
       "        0.00980392, 0.00980392, 0.01633987, 0.01633987, 0.01797386,\n",
       "        0.01797386, 0.0245098 , 0.0245098 , 0.02614379, 0.02777778,\n",
       "        0.03431373, 0.03431373, 0.04084967, 0.04084967, 0.04248366,\n",
       "        0.04575163, 0.04575163, 0.05228758, 0.05392157, 0.05392157,\n",
       "        0.05718954, 0.05882353, 0.05882353, 0.06045752, 0.0620915 ,\n",
       "        0.0620915 , 0.06372549, 0.06372549, 0.06535948, 0.07352941,\n",
       "        0.07352941, 0.07679739, 0.07679739, 0.08660131, 0.08660131,\n",
       "        0.08823529, 0.08823529, 0.09313725, 0.09313725, 0.09803922,\n",
       "        0.09803922, 0.0996732 , 0.0996732 , 0.10130719, 0.10130719,\n",
       "        0.10294118, 0.10294118, 0.1127451 , 0.1127451 , 0.11601307,\n",
       "        0.11928105, 0.11928105, 0.12091503, 0.12091503, 0.12581699,\n",
       "        0.12581699, 0.12745098, 0.12745098, 0.13071895, 0.13071895,\n",
       "        0.13071895, 0.13235294, 0.13235294, 0.1372549 , 0.1372549 ,\n",
       "        0.14379085, 0.14705882, 0.15196078, 0.15196078, 0.15849673,\n",
       "        0.15849673, 0.16339869, 0.16339869, 0.16503268, 0.16830065,\n",
       "        0.16993464, 0.16993464, 0.17320261, 0.17320261, 0.18137255,\n",
       "        0.18464052, 0.18627451, 0.18627451, 0.19934641, 0.20261438,\n",
       "        0.20424837, 0.20424837, 0.20588235, 0.20588235, 0.20915033,\n",
       "        0.20915033, 0.21405229, 0.21405229, 0.21732026, 0.22058824,\n",
       "        0.22712418, 0.23039216, 0.23529412, 0.24183007, 0.25163399,\n",
       "        0.25326797, 0.26470588, 0.26470588, 0.26797386, 0.26797386,\n",
       "        0.26960784, 0.26960784, 0.27777778, 0.27777778, 0.28431373,\n",
       "        0.2875817 , 0.28921569, 0.29248366, 0.29575163, 0.30392157,\n",
       "        0.30392157, 0.30555556, 0.30718954, 0.31045752, 0.3251634 ,\n",
       "        0.3251634 , 0.32679739, 0.32679739, 0.34477124, 0.34477124,\n",
       "        0.34803922, 0.34803922, 0.3496732 , 0.3496732 , 0.35130719,\n",
       "        0.35294118, 0.35294118, 0.35620915, 0.3627451 , 0.36437908,\n",
       "        0.36764706, 0.37091503, 0.37418301, 0.38562092, 0.38562092,\n",
       "        0.38888889, 0.39215686, 0.39379085, 0.39705882, 0.39705882,\n",
       "        0.41013072, 0.41013072, 0.41176471, 0.41176471, 0.41339869,\n",
       "        0.42973856, 0.43300654, 0.43300654, 0.43464052, 0.43464052,\n",
       "        0.43954248, 0.43954248, 0.44771242, 0.44771242, 0.46078431,\n",
       "        0.46078431, 0.46568627, 0.46895425, 0.47058824, 0.47385621,\n",
       "        0.4754902 , 0.47875817, 0.49509804, 0.49836601, 0.5130719 ,\n",
       "        0.5130719 , 0.51797386, 0.52124183, 0.52124183, 0.52287582,\n",
       "        0.52777778, 0.53267974, 0.53594771, 0.54248366, 0.54575163,\n",
       "        0.54738562, 0.54738562, 0.55065359, 0.55392157, 0.55392157,\n",
       "        0.55718954, 0.5620915 , 0.56535948, 0.56535948, 0.56699346,\n",
       "        0.57026144, 0.57352941, 0.58006536, 0.58660131, 0.58660131,\n",
       "        0.58986928, 0.59313725, 0.60947712, 0.6127451 , 0.62745098,\n",
       "        0.62908497, 0.63071895, 0.63235294, 0.63562092, 0.64379085,\n",
       "        0.64379085, 0.64542484, 0.64542484, 0.6503268 , 0.6503268 ,\n",
       "        0.65849673, 0.66503268, 0.66666667, 0.67810458, 0.67810458,\n",
       "        0.68464052, 0.68954248, 0.69117647, 0.69117647, 0.69281046,\n",
       "        0.69934641, 0.70261438, 0.71568627, 0.71895425, 0.72385621,\n",
       "        0.72712418, 0.73202614, 0.73202614, 0.75163399, 0.75490196,\n",
       "        0.75980392, 0.76143791, 0.76143791, 0.76470588, 0.77287582,\n",
       "        0.77287582, 0.7745098 , 0.77614379, 0.77777778, 0.77941176,\n",
       "        0.79575163, 0.79575163, 0.80228758, 0.80228758, 0.8120915 ,\n",
       "        0.81372549, 0.81535948, 0.81535948, 0.82352941, 0.82679739,\n",
       "        0.83823529, 0.84150327, 0.85294118, 0.85620915, 0.85947712,\n",
       "        0.8627451 , 0.86764706, 0.87254902, 0.89379085, 0.89705882,\n",
       "        0.9003268 , 0.90359477, 0.91993464, 0.92973856, 0.93300654,\n",
       "        0.93627451, 0.93954248, 0.94281046, 0.95098039, 0.95424837,\n",
       "        0.95915033, 0.95915033, 0.9624183 , 0.96568627, 0.96895425,\n",
       "        0.97222222, 0.98529412, 0.98529412, 1.        ]),\n",
       " array([0.        , 0.00833333, 0.01666667, 0.01666667, 0.025     ,\n",
       "        0.025     , 0.03333333, 0.03333333, 0.05      , 0.05      ,\n",
       "        0.05833333, 0.05833333, 0.06666667, 0.06666667, 0.075     ,\n",
       "        0.075     , 0.08333333, 0.08333333, 0.09166667, 0.09166667,\n",
       "        0.09166667, 0.11666667, 0.11666667, 0.125     , 0.15      ,\n",
       "        0.15      , 0.15      , 0.175     , 0.175     , 0.18333333,\n",
       "        0.19166667, 0.19166667, 0.2       , 0.20833333, 0.20833333,\n",
       "        0.21666667, 0.21666667, 0.23333333, 0.23333333, 0.24166667,\n",
       "        0.24166667, 0.25      , 0.25      , 0.25833333, 0.25833333,\n",
       "        0.275     , 0.275     , 0.28333333, 0.28333333, 0.29166667,\n",
       "        0.29166667, 0.3       , 0.3       , 0.31666667, 0.31666667,\n",
       "        0.31666667, 0.325     , 0.325     , 0.33333333, 0.33333333,\n",
       "        0.34166667, 0.34166667, 0.35      , 0.35      , 0.35833333,\n",
       "        0.375     , 0.375     , 0.38333333, 0.38333333, 0.39166667,\n",
       "        0.39166667, 0.39166667, 0.39166667, 0.4       , 0.4       ,\n",
       "        0.40833333, 0.40833333, 0.43333333, 0.43333333, 0.43333333,\n",
       "        0.43333333, 0.44166667, 0.44166667, 0.45      , 0.45      ,\n",
       "        0.45      , 0.45      , 0.45833333, 0.45833333, 0.45833333,\n",
       "        0.45833333, 0.475     , 0.48333333, 0.49166667, 0.49166667,\n",
       "        0.5       , 0.5       , 0.51666667, 0.51666667, 0.51666667,\n",
       "        0.51666667, 0.51666667, 0.51666667, 0.51666667, 0.51666667,\n",
       "        0.525     , 0.525     , 0.53333333, 0.53333333, 0.54166667,\n",
       "        0.55      , 0.55833333, 0.55833333, 0.56666667, 0.56666667,\n",
       "        0.56666667, 0.56666667, 0.575     , 0.575     , 0.575     ,\n",
       "        0.6       , 0.60833333, 0.60833333, 0.60833333, 0.60833333,\n",
       "        0.61666667, 0.61666667, 0.63333333, 0.63333333, 0.64166667,\n",
       "        0.64166667, 0.65      , 0.65      , 0.66666667, 0.66666667,\n",
       "        0.675     , 0.68333333, 0.68333333, 0.68333333, 0.68333333,\n",
       "        0.68333333, 0.68333333, 0.68333333, 0.68333333, 0.69166667,\n",
       "        0.69166667, 0.7       , 0.7       , 0.7       , 0.70833333,\n",
       "        0.70833333, 0.71666667, 0.71666667, 0.73333333, 0.74166667,\n",
       "        0.74166667, 0.74166667, 0.75      , 0.75      , 0.75833333,\n",
       "        0.75833333, 0.76666667, 0.76666667, 0.775     , 0.775     ,\n",
       "        0.78333333, 0.78333333, 0.78333333, 0.78333333, 0.78333333,\n",
       "        0.78333333, 0.78333333, 0.78333333, 0.78333333, 0.78333333,\n",
       "        0.79166667, 0.79166667, 0.79166667, 0.8       , 0.8       ,\n",
       "        0.8       , 0.8       , 0.8       , 0.8       , 0.8       ,\n",
       "        0.8       , 0.80833333, 0.80833333, 0.80833333, 0.81666667,\n",
       "        0.81666667, 0.81666667, 0.81666667, 0.825     , 0.825     ,\n",
       "        0.825     , 0.825     , 0.825     , 0.825     , 0.83333333,\n",
       "        0.83333333, 0.83333333, 0.83333333, 0.83333333, 0.83333333,\n",
       "        0.84166667, 0.84166667, 0.85      , 0.85      , 0.85      ,\n",
       "        0.85833333, 0.85833333, 0.86666667, 0.86666667, 0.875     ,\n",
       "        0.875     , 0.875     , 0.88333333, 0.88333333, 0.89166667,\n",
       "        0.89166667, 0.89166667, 0.89166667, 0.9       , 0.90833333,\n",
       "        0.90833333, 0.90833333, 0.90833333, 0.90833333, 0.90833333,\n",
       "        0.90833333, 0.90833333, 0.91666667, 0.91666667, 0.91666667,\n",
       "        0.91666667, 0.91666667, 0.925     , 0.925     , 0.925     ,\n",
       "        0.93333333, 0.93333333, 0.94166667, 0.94166667, 0.95      ,\n",
       "        0.95      , 0.95833333, 0.95833333, 0.96666667, 0.96666667,\n",
       "        0.975     , 0.975     , 0.98333333, 0.98333333, 0.98333333,\n",
       "        0.98333333, 0.98333333, 0.98333333, 0.98333333, 0.98333333,\n",
       "        0.98333333, 0.98333333, 0.98333333, 0.98333333, 0.98333333,\n",
       "        0.98333333, 0.98333333, 0.98333333, 0.98333333, 0.98333333,\n",
       "        0.98333333, 0.98333333, 0.98333333, 0.98333333, 0.98333333,\n",
       "        0.98333333, 0.99166667, 0.99166667, 0.99166667, 0.99166667,\n",
       "        0.99166667, 0.99166667, 1.        , 1.        ]),\n",
       " array([        inf,  0.459386  ,  0.27880307, -0.02778655, -0.05958622,\n",
       "        -0.20777348, -0.21945976, -0.31958913, -0.32964582, -0.33785414,\n",
       "        -0.35878232, -0.41439215, -0.41705532, -0.42260046, -0.4382023 ,\n",
       "        -0.51658869, -0.56583858, -0.60133501, -0.60872853, -0.61775164,\n",
       "        -0.6214484 , -0.64895531, -0.66803512, -0.67173188, -0.69717162,\n",
       "        -0.70353155, -0.71358825, -0.74908468, -0.75381503, -0.76283814,\n",
       "        -0.76734969, -0.77186125, -0.79751978, -0.80572809, -0.83301621,\n",
       "        -0.83589818, -0.86133792, -0.86606826, -0.88248489, -0.90792463,\n",
       "        -0.91162139, -0.91694774, -0.93602754, -0.9391283 , -0.96619763,\n",
       "        -0.97706912, -0.97728791, -0.98364785, -0.98549623, -0.99185616,\n",
       "        -0.99636772, -1.00272765, -1.05034795, -1.05937106, -1.06469741,\n",
       "        -1.06861296, -1.08214763, -1.08318121, -1.08584439, -1.10307581,\n",
       "        -1.10677257, -1.11128413, -1.11231771, -1.1324311 , -1.13982462,\n",
       "        -1.14145421, -1.14678056, -1.15151091, -1.17059071, -1.1716243 ,\n",
       "        -1.17961382, -1.18700734, -1.20527235, -1.20712073, -1.22353736,\n",
       "        -1.22457095, -1.24076878, -1.24794351, -1.25533703, -1.26006738,\n",
       "        -1.26479773, -1.26539373, -1.26909049, -1.27072008, -1.2965974 ,\n",
       "        -1.29822699, -1.30828368, -1.31834038, -1.374169  , -1.37764696,\n",
       "        -1.37868055, -1.38585528, -1.39036683, -1.39221521, -1.39243401,\n",
       "        -1.4030867 , -1.40966543, -1.41972213, -1.42896403, -1.44434707,\n",
       "        -1.4607637 , -1.46342687, -1.46815722, -1.4798435 , -1.50898   ,\n",
       "        -1.51082838, -1.54099847, -1.55453313, -1.57568011, -1.5767137 ,\n",
       "        -1.57834328, -1.58573681, -1.60030505, -1.60193464, -1.61117654,\n",
       "        -1.61302492, -1.61383972, -1.61857007, -1.62019965, -1.63764987,\n",
       "        -1.64238022, -1.6440098 , -1.64504339, -1.64874015, -1.6731463 ,\n",
       "        -1.67521348, -1.68053982, -1.68401779, -1.72446337, -1.72527816,\n",
       "        -1.72978971, -1.7308233 , -1.73348647, -1.74354317, -1.7499031 ,\n",
       "        -1.75093669, -1.75626304, -1.76262297, -1.76735332, -1.77001649,\n",
       "        -1.77822481, -1.78192157, -1.78746671, -1.81290645, -1.81556962,\n",
       "        -1.8182328 , -1.81926638, -1.82192956, -1.83301984, -1.83383463,\n",
       "        -1.87302783, -1.8759098 , -1.88042135, -1.88226973, -1.8849329 ,\n",
       "        -1.91243982, -1.9140694 , -1.91510299, -1.91879975, -1.92042934,\n",
       "        -1.93706476, -1.94076152, -1.96967923, -1.97440957, -2.00354607,\n",
       "        -2.00724283, -2.02920461, -2.0300194 , -2.03474975, -2.05361076,\n",
       "        -2.05382955, -2.0591559 , -2.08725881, -2.0882924 , -2.11313614,\n",
       "        -2.11846248, -2.14863257, -2.14966616, -2.15129574, -2.15314412,\n",
       "        -2.1549925 , -2.16320082, -2.16771237, -2.17695427, -2.18146583,\n",
       "        -2.18782576, -2.18885935, -2.19070773, -2.19233732, -2.20032684,\n",
       "        -2.20793915, -2.21777706, -2.21799585, -2.21902944, -2.22065902,\n",
       "        -2.22701896, -2.24077241, -2.24609876, -2.25637425, -2.25718904,\n",
       "        -2.25903742, -2.25985222, -2.2900223 , -2.300079  , -2.32285556,\n",
       "        -2.32655232, -2.3292155 , -2.33024908, -2.33291226, -2.34030578,\n",
       "        -2.34296895, -2.35014368, -2.35302565, -2.36101517, -2.36123396,\n",
       "        -2.37580221, -2.38216215, -2.38852208, -2.41499541, -2.41765858,\n",
       "        -2.41950696, -2.42135534, -2.42401852, -2.42690048, -2.42771528,\n",
       "        -2.43673839, -2.44043515, -2.46875685, -2.47060523, -2.48066193,\n",
       "        -2.48435869, -2.49071862, -2.49175221, -2.52355188, -2.52724864,\n",
       "        -2.52991182, -2.53464216, -2.53545696, -2.53730534, -2.55268838,\n",
       "        -2.55535156, -2.55557035, -2.55823352, -2.55904832, -2.5600819 ,\n",
       "        -2.61014659, -2.61199497, -2.62944518, -2.63395674, -2.64852499,\n",
       "        -2.65591851, -2.66227844, -2.66863838, -2.68217304, -2.68320663,\n",
       "        -2.71788827, -2.7242482 , -2.74436159, -2.74702477, -2.7533847 ,\n",
       "        -2.75441829, -2.75974464, -2.76077822, -2.80263459, -2.80633135,\n",
       "        -2.82459636, -2.8401982 , -2.87939139, -2.89211126, -2.90113437,\n",
       "        -2.90216796, -2.90586472, -2.90852789, -2.93130446, -2.93766439,\n",
       "        -2.97049765, -2.98055435, -3.01072443, -3.01708437, -3.0234443 ,\n",
       "        -3.02714106, -3.11558415, -3.1293376 , -3.37743543]))"
      ]
     },
     "execution_count": 71,
     "metadata": {},
     "output_type": "execute_result"
    }
   ],
   "source": [
    "logistic_fpr,logistic_tpr,threshold"
   ]
  },
  {
   "cell_type": "code",
   "execution_count": 73,
   "id": "938a9633",
   "metadata": {},
   "outputs": [
    {
     "data": {
      "image/png": "[encoded data removed]",
      "text/plain": [
       "<Figure size 1000x1000 with 1 Axes>"
      ]
     },
     "metadata": {},
     "output_type": "display_data"
    }
   ],
   "source": [
    "plt.subplots(1, figsize=(10,10))\n",
    "plt.title('Receiver Operating Characteristic - DecisionTree')\n",
    "plt.plot(logistic_fpr,logistic_tpr)\n",
    "plt.plot([0, 1], ls=\"--\")\n",
    "plt.plot([0, 0], [1, 0] , c=\".7\"), plt.plot([1, 1] , c=\".7\")\n",
    "plt.ylabel('True Positive Rate')\n",
    "plt.xlabel('False Positive Rate')\n",
    "plt.show()"
   ]
  }
 ],
 "metadata": {
  "kernelspec": {
   "display_name": "Python 3 (ipykernel)",
   "language": "python",
   "name": "python3"
  },
  "language_info": {
   "codemirror_mode": {
    "name": "ipython",
    "version": 3
   },
   "file_extension": ".py",
   "mimetype": "text/x-python",
   "name": "python",
   "nbconvert_exporter": "python",
   "pygments_lexer": "ipython3",
   "version": "3.11.4"
  }
 },
 "nbformat": 4,
 "nbformat_minor": 5
}
