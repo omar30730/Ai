{
 "cells": [
  {
   "cell_type": "code",
   "execution_count": 4,
   "id": "e643c280",
   "metadata": {},
   "outputs": [
    {
     "name": "stdout",
     "output_type": "stream",
     "text": [
      "2002,2009,2016,2023,2037,2044,2051,2058,2072,2079,2086,2093,2107,2114,2121,2128,2142,2149,2156,2163,2177,2184,2191,2198,2212,2219,2226,2233,2247,2254,2261,2268,2282,2289,2296,2303,2317,2324,2331,2338,2352,2359,2366,2373,2387,2394,2401,2408,2422,2429,2436,2443,2457,2464,2471,2478,2492,2499,2506,2513,2527,2534,2541,2548,2562,2569,2576,2583,2597,2604,2611,2618,2632,2639,2646,2653,2667,2674,2681,2688,2702,2709,2716,2723,2737,2744,2751,2758,2772,2779,2786,2793,2807,2814,2821,2828,2842,2849,2856,2863,2877,2884,2891,2898,2912,2919,2926,2933,2947,2954,2961,2968,2982,2989,2996,3003,3017,3024,3031,3038,3052,3059,3066,3073,3087,3094,3101,3108,3122,3129,3136,3143,3157,3164,3171,3178,3192,3199,"
     ]
    }
   ],
   "source": [
    "#question 1\n",
    "\n",
    "\n",
    "for i in range(2000,3200):\n",
    "    \n",
    "    if i % 7 == 0 and i % 5 != 0:\n",
    "        \n",
    "        print(i,end=',')"
   ]
  },
  {
   "cell_type": "code",
   "execution_count": 5,
   "id": "41a1490a",
   "metadata": {},
   "outputs": [
    {
     "name": "stdout",
     "output_type": "stream",
     "text": [
      "Please enter your number :  5\n",
      "factorial number is :  120\n"
     ]
    }
   ],
   "source": [
    "#question 2\n",
    "\n",
    "\n",
    "given_num = int(input(\"Please enter your number :  \"))\n",
    "\n",
    "def factorial(n):\n",
    "    \n",
    "    f = 1\n",
    "    \n",
    "    for i in range(1,n+1):\n",
    "        \n",
    "        f = f * i\n",
    "        \n",
    "    return f\n",
    "\n",
    "print(\"factorial number is : \",factorial(given_num))\n",
    "\n",
    "\n"
   ]
  },
  {
   "cell_type": "code",
   "execution_count": 6,
   "id": "2387142e",
   "metadata": {},
   "outputs": [
    {
     "name": "stdout",
     "output_type": "stream",
     "text": [
      "Please enter your number :  8\n",
      "{1: 1, 2: 4, 3: 9, 4: 16, 5: 25, 6: 36, 7: 49, 8: 64}\n"
     ]
    }
   ],
   "source": [
    "#question 3\n",
    "\n",
    "\n",
    "given_num = int(input(\"Please enter your number :  \"))\n",
    "\n",
    "dic = {}\n",
    "\n",
    "for i in range (1 , given_num+1):\n",
    "    \n",
    "    dic[i] = i*i\n",
    "    \n",
    "    \n",
    "print(dic)\n",
    "\n"
   ]
  },
  {
   "cell_type": "code",
   "execution_count": 7,
   "id": "d2adf36c",
   "metadata": {},
   "outputs": [
    {
     "name": "stdout",
     "output_type": "stream",
     "text": [
      "enter word  : kitten\n",
      "\n",
      "enter number of index that you want to missing char : \n",
      "5\n",
      "kitte\n"
     ]
    }
   ],
   "source": [
    "#question 4\n",
    "\n",
    "\n",
    "word1 = input(\"enter word  : \")\n",
    "\n",
    "word2 = int(input(\"\\nenter number of index that you want to missing char : \\n\"))\n",
    "\n",
    "def missing_char(word , i):\n",
    "    \n",
    "    begin = word[:i]\n",
    "    end = word[i+1:]\n",
    "    \n",
    "    return begin + end\n",
    "    \n",
    "    \n",
    "    \n",
    "print(missing_char(word1 , word2))"
   ]
  },
  {
   "cell_type": "code",
   "execution_count": 8,
   "id": "2384aa6a",
   "metadata": {
    "scrolled": true
   },
   "outputs": [
    {
     "name": "stdout",
     "output_type": "stream",
     "text": [
      "[[0, 1], [2, 3], [4, 5]]\n"
     ]
    }
   ],
   "source": [
    "#question 5\n",
    "\n",
    "\n",
    "import numpy as np\n",
    "\n",
    "\n",
    "x= np.arange(6).reshape(3, 2)\n",
    "\n",
    "\n",
    "\n",
    "print(x.tolist())"
   ]
  },
  {
   "cell_type": "code",
   "execution_count": 9,
   "id": "de72369e",
   "metadata": {},
   "outputs": [
    {
     "name": "stdout",
     "output_type": "stream",
     "text": [
      "[0 1 2] [2 1 0]\n",
      "[[ 1. -1.]\n",
      " [-1.  1.]]\n"
     ]
    }
   ],
   "source": [
    "#question 6\n",
    "\n",
    "\n",
    "Original_array1= np.array([0, 1, 2])\n",
    "\n",
    "Original_array2= np.array([2, 1, 0])\n",
    "\n",
    "print(Original_array1,Original_array2)\n",
    "\n",
    "print(np.cov(Original_array2,Original_array1))\n"
   ]
  },
  {
   "cell_type": "code",
   "execution_count": 10,
   "id": "f9088368",
   "metadata": {
    "scrolled": true
   },
   "outputs": [
    {
     "name": "stdout",
     "output_type": "stream",
     "text": [
      "\n",
      "please enter your number (if you input more than one number put ',' after each number)  : \n",
      "100,150,200\n",
      "[18, 22, 26]\n"
     ]
    }
   ],
   "source": [
    "#question 7\n",
    "\n",
    "\n",
    "import math as mt\n",
    "\n",
    "\n",
    "inp = input(\"\\nplease enter your number (if you input more than one number put ',' after each number)  : \\n\") \n",
    "\n",
    "\n",
    "inp = inp.split(\",\")\n",
    "\n",
    "\n",
    "\n",
    "C = 50\n",
    " \n",
    "H = 30\n",
    "\n",
    "items = []\n",
    "\n",
    "for i in inp:\n",
    "    \n",
    "    formula = round(mt.sqrt((2 * C * int (i) / H)))\n",
    "    \n",
    "    items.append(formula)\n",
    "\n",
    "print(items)\n",
    "\n",
    "\n",
    "\n"
   ]
  }
 ],
 "metadata": {
  "kernelspec": {
   "display_name": "Python 3 (ipykernel)",
   "language": "python",
   "name": "python3"
  },
  "language_info": {
   "codemirror_mode": {
    "name": "ipython",
    "version": 3
   },
   "file_extension": ".py",
   "mimetype": "text/x-python",
   "name": "python",
   "nbconvert_exporter": "python",
   "pygments_lexer": "ipython3",
   "version": "3.10.9"
  }
 },
 "nbformat": 4,
 "nbformat_minor": 5
}
